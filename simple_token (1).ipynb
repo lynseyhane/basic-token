{
 "cells": [
  {
   "cell_type": "code",
   "execution_count": 5,
   "metadata": {},
   "outputs": [],
   "source": [
    "# importing the libraries needed in this section\n",
    "import nltk\n",
    "from nltk.tokenize import RegexpTokenizer\n"
   ]
  },
  {
   "cell_type": "code",
   "execution_count": 25,
   "metadata": {},
   "outputs": [],
   "source": [
    "# defining the text\n",
    "text = 'Rock climbing can burn five hundred calories per hour, making it a great sport for keeping in shape!.'\n",
    "\n",
    "# instantiating the tokenizer object. By passing r'\\w+' to the RegexpTokenizer\n",
    "# I am selecting groups of single words, discarding the punctuation\n",
    "tokenizer = RegexpTokenizer(r'\\w+')\n",
    "\n",
    "# getting the tokens\n",
    "tokens = tokenizer.tokenize(text)"
   ]
  },
  {
   "cell_type": "code",
   "execution_count": 24,
   "metadata": {},
   "outputs": [
    {
     "data": {
      "text/plain": [
       "['Rock',\n",
       " 'climbing',\n",
       " 'can',\n",
       " 'burn',\n",
       " 'five',\n",
       " 'hundred',\n",
       " 'calories',\n",
       " 'per',\n",
       " 'hour',\n",
       " 'making',\n",
       " 'it',\n",
       " 'a',\n",
       " 'great',\n",
       " 'sport',\n",
       " 'for',\n",
       " 'keeping',\n",
       " 'in',\n",
       " 'shape']"
      ]
     },
     "execution_count": 24,
     "metadata": {},
     "output_type": "execute_result"
    }
   ],
   "source": [
    "tokens"
   ]
  },
  {
   "cell_type": "code",
   "execution_count": 23,
   "metadata": {},
   "outputs": [],
   "source": [
    "# importing the library needed in this section\n",
    "from nltk.corpus import stopwords\n",
    "\n",
    "# assigning the english stop-words to the sw list\n",
    "sw = stopwords.words('english')\n",
    "\n",
    "# assigning the non stop-words contained in the tokens list\n",
    "# to a new list named clean_tokens through a list comprehension\n",
    "clean_tokens = [token for token in tokens if token not in sw]"
   ]
  },
  {
   "cell_type": "code",
   "execution_count": 22,
   "metadata": {},
   "outputs": [
    {
     "data": {
      "text/plain": [
       "['Rock',\n",
       " 'climbing',\n",
       " 'burn',\n",
       " 'five',\n",
       " 'hundred',\n",
       " 'calories',\n",
       " 'per',\n",
       " 'hour',\n",
       " 'making',\n",
       " 'great',\n",
       " 'sport',\n",
       " 'keeping',\n",
       " 'shape']"
      ]
     },
     "execution_count": 22,
     "metadata": {},
     "output_type": "execute_result"
    }
   ],
   "source": [
    "clean_tokens"
   ]
  },
  {
   "cell_type": "code",
   "execution_count": 27,
   "metadata": {},
   "outputs": [
    {
     "data": {
      "text/plain": [
       "['Rock',\n",
       " 'climbing',\n",
       " 'burn',\n",
       " 'five',\n",
       " 'hundred',\n",
       " 'calorie',\n",
       " 'per',\n",
       " 'hour',\n",
       " 'making',\n",
       " 'great',\n",
       " 'sport',\n",
       " 'keeping',\n",
       " 'shape']"
      ]
     },
     "execution_count": 27,
     "metadata": {},
     "output_type": "execute_result"
    }
   ],
   "source": [
    "# importing the library needed in this section\n",
    "from nltk.stem import WordNetLemmatizer\n",
    "\n",
    "# instantiating the lemmaztizer object\n",
    "lemmatizer = WordNetLemmatizer()\n",
    "\n",
    "# lemmatizing each word through a list comprehension\n",
    "[lemmatizer.lemmatize(token) for token in clean_tokens]"
   ]
  },
  {
   "cell_type": "code",
   "execution_count": 28,
   "metadata": {},
   "outputs": [
    {
     "data": {
      "text/plain": [
       "['rock',\n",
       " 'climb',\n",
       " 'burn',\n",
       " 'five',\n",
       " 'hundr',\n",
       " 'calori',\n",
       " 'per',\n",
       " 'hour',\n",
       " 'make',\n",
       " 'great',\n",
       " 'sport',\n",
       " 'keep',\n",
       " 'shape']"
      ]
     },
     "execution_count": 28,
     "metadata": {},
     "output_type": "execute_result"
    }
   ],
   "source": [
    "# importing the library needed in this section\n",
    "from nltk.stem.porter import PorterStemmer\n",
    "\n",
    "# instantiating the stemmer object\n",
    "pstemmer = PorterStemmer()\n",
    "\n",
    "# stemming each word through a list comprehension\n",
    "[pstemmer.stem(token) for token in clean_tokens]"
   ]
  },
  {
   "cell_type": "code",
   "execution_count": null,
   "metadata": {},
   "outputs": [],
   "source": []
  }
 ],
 "metadata": {
  "kernelspec": {
   "display_name": "Python 3",
   "language": "python",
   "name": "python3"
  },
  "language_info": {
   "codemirror_mode": {
    "name": "ipython",
    "version": 3
   },
   "file_extension": ".py",
   "mimetype": "text/x-python",
   "name": "python",
   "nbconvert_exporter": "python",
   "pygments_lexer": "ipython3",
   "version": "3.8.5"
  }
 },
 "nbformat": 4,
 "nbformat_minor": 4
}
